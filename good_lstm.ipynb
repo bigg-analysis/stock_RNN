{
 "cells": [
  {
   "cell_type": "code",
   "execution_count": 1,
   "id": "3ba82afe-e0d6-4727-af00-6949d567cc72",
   "metadata": {},
   "outputs": [
    {
     "name": "stderr",
     "output_type": "stream",
     "text": [
      "2023-12-14 03:35:34.918490: I external/local_tsl/tsl/cuda/cudart_stub.cc:31] Could not find cuda drivers on your machine, GPU will not be used.\n",
      "2023-12-14 03:35:34.946287: E external/local_xla/xla/stream_executor/cuda/cuda_dnn.cc:9261] Unable to register cuDNN factory: Attempting to register factory for plugin cuDNN when one has already been registered\n",
      "2023-12-14 03:35:34.946320: E external/local_xla/xla/stream_executor/cuda/cuda_fft.cc:607] Unable to register cuFFT factory: Attempting to register factory for plugin cuFFT when one has already been registered\n",
      "2023-12-14 03:35:34.946955: E external/local_xla/xla/stream_executor/cuda/cuda_blas.cc:1515] Unable to register cuBLAS factory: Attempting to register factory for plugin cuBLAS when one has already been registered\n",
      "2023-12-14 03:35:34.950781: I external/local_tsl/tsl/cuda/cudart_stub.cc:31] Could not find cuda drivers on your machine, GPU will not be used.\n",
      "2023-12-14 03:35:34.951189: I tensorflow/core/platform/cpu_feature_guard.cc:182] This TensorFlow binary is optimized to use available CPU instructions in performance-critical operations.\n",
      "To enable the following instructions: AVX2 FMA, in other operations, rebuild TensorFlow with the appropriate compiler flags.\n",
      "2023-12-14 03:35:35.644351: W tensorflow/compiler/tf2tensorrt/utils/py_utils.cc:38] TF-TRT Warning: Could not find TensorRT\n"
     ]
    }
   ],
   "source": [
    "import os\n",
    "import numpy as np\n",
    "import pandas as pd\n",
    "import matplotlib.pyplot as plt\n",
    "%matplotlib inline\n",
    "\n",
    "#keras\n",
    "from keras.models import Sequential, Model\n",
    "from keras.layers import Dense\n",
    "from keras.utils import to_categorical\n",
    "\n",
    "import numpy as np\n",
    "import h5py\n",
    "from pathlib import Path\n",
    "import matplotlib.pyplot as plt\n",
    "\n",
    "from keras import backend as keras_backend\n",
    "\n",
    "#y finance stuff\n",
    "import yfinance as yf\n",
    "import pandas as pd\n",
    "from datetime import datetime, timedelta\n"
   ]
  },
  {
   "cell_type": "code",
   "execution_count": 2,
   "id": "92466bf2-18f9-4b17-9c19-e1b7c754d6ad",
   "metadata": {},
   "outputs": [
    {
     "name": "stdout",
     "output_type": "stream",
     "text": [
      "[*********************100%%**********************]  1 of 1 completed\n",
      "              Open     High      Low  Close  Adj Close    Volume\n",
      "Date                                                            \n",
      "1999-11-10  65.000  70.3125  64.5000  68.25  36.707653  80793700\n",
      "1999-11-11  68.750  76.9375  68.7500  75.00  40.338089  28309000\n",
      "1999-11-12  76.000  76.6250  69.2500  70.50  37.917793  14768100\n",
      "1999-11-15  70.500  70.8750  67.3125  69.00  37.111023   8675100\n",
      "1999-11-16  67.875  68.0000  65.0000  66.00  35.497498   6978600\n"
     ]
    }
   ],
   "source": [
    "# Stock Module Data\n",
    "from stock_module4 import download_and_save_stock_data\n",
    "\n",
    "# Use Symbol for different stocks\n",
    "\n",
    "symbol = \"UPS\"\n",
    "days = 10000\n",
    "output_csv_path = \"stock_data.csv\"\n",
    "download_and_save_stock_data(symbol, days, output_csv_path)"
   ]
  },
  {
   "cell_type": "code",
   "execution_count": 3,
   "id": "64d42aaf-e65f-48d8-ad09-6b8c6b49ebd4",
   "metadata": {},
   "outputs": [
    {
     "data": {
      "text/html": [
       "<div>\n",
       "<style scoped>\n",
       "    .dataframe tbody tr th:only-of-type {\n",
       "        vertical-align: middle;\n",
       "    }\n",
       "\n",
       "    .dataframe tbody tr th {\n",
       "        vertical-align: top;\n",
       "    }\n",
       "\n",
       "    .dataframe thead th {\n",
       "        text-align: right;\n",
       "    }\n",
       "</style>\n",
       "<table border=\"1\" class=\"dataframe\">\n",
       "  <thead>\n",
       "    <tr style=\"text-align: right;\">\n",
       "      <th></th>\n",
       "      <th>Date</th>\n",
       "      <th>Open</th>\n",
       "      <th>High</th>\n",
       "      <th>Low</th>\n",
       "      <th>Close</th>\n",
       "      <th>Adj Close</th>\n",
       "      <th>Volume</th>\n",
       "    </tr>\n",
       "  </thead>\n",
       "  <tbody>\n",
       "    <tr>\n",
       "      <th>0</th>\n",
       "      <td>1999-11-10</td>\n",
       "      <td>65.000000</td>\n",
       "      <td>70.312500</td>\n",
       "      <td>64.500000</td>\n",
       "      <td>68.250000</td>\n",
       "      <td>36.707653</td>\n",
       "      <td>80793700</td>\n",
       "    </tr>\n",
       "    <tr>\n",
       "      <th>1</th>\n",
       "      <td>1999-11-11</td>\n",
       "      <td>68.750000</td>\n",
       "      <td>76.937500</td>\n",
       "      <td>68.750000</td>\n",
       "      <td>75.000000</td>\n",
       "      <td>40.338089</td>\n",
       "      <td>28309000</td>\n",
       "    </tr>\n",
       "    <tr>\n",
       "      <th>2</th>\n",
       "      <td>1999-11-12</td>\n",
       "      <td>76.000000</td>\n",
       "      <td>76.625000</td>\n",
       "      <td>69.250000</td>\n",
       "      <td>70.500000</td>\n",
       "      <td>37.917793</td>\n",
       "      <td>14768100</td>\n",
       "    </tr>\n",
       "    <tr>\n",
       "      <th>3</th>\n",
       "      <td>1999-11-15</td>\n",
       "      <td>70.500000</td>\n",
       "      <td>70.875000</td>\n",
       "      <td>67.312500</td>\n",
       "      <td>69.000000</td>\n",
       "      <td>37.111023</td>\n",
       "      <td>8675100</td>\n",
       "    </tr>\n",
       "    <tr>\n",
       "      <th>4</th>\n",
       "      <td>1999-11-16</td>\n",
       "      <td>67.875000</td>\n",
       "      <td>68.000000</td>\n",
       "      <td>65.000000</td>\n",
       "      <td>66.000000</td>\n",
       "      <td>35.497498</td>\n",
       "      <td>6978600</td>\n",
       "    </tr>\n",
       "    <tr>\n",
       "      <th>...</th>\n",
       "      <td>...</td>\n",
       "      <td>...</td>\n",
       "      <td>...</td>\n",
       "      <td>...</td>\n",
       "      <td>...</td>\n",
       "      <td>...</td>\n",
       "      <td>...</td>\n",
       "    </tr>\n",
       "    <tr>\n",
       "      <th>6057</th>\n",
       "      <td>2023-12-07</td>\n",
       "      <td>155.869995</td>\n",
       "      <td>157.610001</td>\n",
       "      <td>155.500000</td>\n",
       "      <td>156.500000</td>\n",
       "      <td>156.500000</td>\n",
       "      <td>3241200</td>\n",
       "    </tr>\n",
       "    <tr>\n",
       "      <th>6058</th>\n",
       "      <td>2023-12-08</td>\n",
       "      <td>156.070007</td>\n",
       "      <td>157.679993</td>\n",
       "      <td>155.960007</td>\n",
       "      <td>156.300003</td>\n",
       "      <td>156.300003</td>\n",
       "      <td>2845900</td>\n",
       "    </tr>\n",
       "    <tr>\n",
       "      <th>6059</th>\n",
       "      <td>2023-12-11</td>\n",
       "      <td>155.649994</td>\n",
       "      <td>156.369995</td>\n",
       "      <td>154.839996</td>\n",
       "      <td>155.779999</td>\n",
       "      <td>155.779999</td>\n",
       "      <td>3742100</td>\n",
       "    </tr>\n",
       "    <tr>\n",
       "      <th>6060</th>\n",
       "      <td>2023-12-12</td>\n",
       "      <td>155.949997</td>\n",
       "      <td>157.110001</td>\n",
       "      <td>154.919998</td>\n",
       "      <td>155.369995</td>\n",
       "      <td>155.369995</td>\n",
       "      <td>3039900</td>\n",
       "    </tr>\n",
       "    <tr>\n",
       "      <th>6061</th>\n",
       "      <td>2023-12-13</td>\n",
       "      <td>154.839996</td>\n",
       "      <td>157.389999</td>\n",
       "      <td>154.020004</td>\n",
       "      <td>157.250000</td>\n",
       "      <td>157.250000</td>\n",
       "      <td>3835800</td>\n",
       "    </tr>\n",
       "  </tbody>\n",
       "</table>\n",
       "<p>6062 rows × 7 columns</p>\n",
       "</div>"
      ],
      "text/plain": [
       "            Date        Open        High         Low       Close   Adj Close  \\\n",
       "0     1999-11-10   65.000000   70.312500   64.500000   68.250000   36.707653   \n",
       "1     1999-11-11   68.750000   76.937500   68.750000   75.000000   40.338089   \n",
       "2     1999-11-12   76.000000   76.625000   69.250000   70.500000   37.917793   \n",
       "3     1999-11-15   70.500000   70.875000   67.312500   69.000000   37.111023   \n",
       "4     1999-11-16   67.875000   68.000000   65.000000   66.000000   35.497498   \n",
       "...          ...         ...         ...         ...         ...         ...   \n",
       "6057  2023-12-07  155.869995  157.610001  155.500000  156.500000  156.500000   \n",
       "6058  2023-12-08  156.070007  157.679993  155.960007  156.300003  156.300003   \n",
       "6059  2023-12-11  155.649994  156.369995  154.839996  155.779999  155.779999   \n",
       "6060  2023-12-12  155.949997  157.110001  154.919998  155.369995  155.369995   \n",
       "6061  2023-12-13  154.839996  157.389999  154.020004  157.250000  157.250000   \n",
       "\n",
       "        Volume  \n",
       "0     80793700  \n",
       "1     28309000  \n",
       "2     14768100  \n",
       "3      8675100  \n",
       "4      6978600  \n",
       "...        ...  \n",
       "6057   3241200  \n",
       "6058   2845900  \n",
       "6059   3742100  \n",
       "6060   3039900  \n",
       "6061   3835800  \n",
       "\n",
       "[6062 rows x 7 columns]"
      ]
     },
     "execution_count": 3,
     "metadata": {},
     "output_type": "execute_result"
    }
   ],
   "source": [
    "stock = pd.read_csv('stock_data.csv')\n",
    "stock"
   ]
  },
  {
   "cell_type": "code",
   "execution_count": 4,
   "id": "616a6b73-8b15-4c18-9d55-c67b8b7d8bab",
   "metadata": {},
   "outputs": [
    {
     "data": {
      "text/html": [
       "<div>\n",
       "<style scoped>\n",
       "    .dataframe tbody tr th:only-of-type {\n",
       "        vertical-align: middle;\n",
       "    }\n",
       "\n",
       "    .dataframe tbody tr th {\n",
       "        vertical-align: top;\n",
       "    }\n",
       "\n",
       "    .dataframe thead th {\n",
       "        text-align: right;\n",
       "    }\n",
       "</style>\n",
       "<table border=\"1\" class=\"dataframe\">\n",
       "  <thead>\n",
       "    <tr style=\"text-align: right;\">\n",
       "      <th></th>\n",
       "      <th>Date</th>\n",
       "      <th>Close</th>\n",
       "    </tr>\n",
       "  </thead>\n",
       "  <tbody>\n",
       "    <tr>\n",
       "      <th>0</th>\n",
       "      <td>1999-11-10</td>\n",
       "      <td>68.250000</td>\n",
       "    </tr>\n",
       "    <tr>\n",
       "      <th>1</th>\n",
       "      <td>1999-11-11</td>\n",
       "      <td>75.000000</td>\n",
       "    </tr>\n",
       "    <tr>\n",
       "      <th>2</th>\n",
       "      <td>1999-11-12</td>\n",
       "      <td>70.500000</td>\n",
       "    </tr>\n",
       "    <tr>\n",
       "      <th>3</th>\n",
       "      <td>1999-11-15</td>\n",
       "      <td>69.000000</td>\n",
       "    </tr>\n",
       "    <tr>\n",
       "      <th>4</th>\n",
       "      <td>1999-11-16</td>\n",
       "      <td>66.000000</td>\n",
       "    </tr>\n",
       "    <tr>\n",
       "      <th>...</th>\n",
       "      <td>...</td>\n",
       "      <td>...</td>\n",
       "    </tr>\n",
       "    <tr>\n",
       "      <th>6057</th>\n",
       "      <td>2023-12-07</td>\n",
       "      <td>156.500000</td>\n",
       "    </tr>\n",
       "    <tr>\n",
       "      <th>6058</th>\n",
       "      <td>2023-12-08</td>\n",
       "      <td>156.300003</td>\n",
       "    </tr>\n",
       "    <tr>\n",
       "      <th>6059</th>\n",
       "      <td>2023-12-11</td>\n",
       "      <td>155.779999</td>\n",
       "    </tr>\n",
       "    <tr>\n",
       "      <th>6060</th>\n",
       "      <td>2023-12-12</td>\n",
       "      <td>155.369995</td>\n",
       "    </tr>\n",
       "    <tr>\n",
       "      <th>6061</th>\n",
       "      <td>2023-12-13</td>\n",
       "      <td>157.250000</td>\n",
       "    </tr>\n",
       "  </tbody>\n",
       "</table>\n",
       "<p>6062 rows × 2 columns</p>\n",
       "</div>"
      ],
      "text/plain": [
       "            Date       Close\n",
       "0     1999-11-10   68.250000\n",
       "1     1999-11-11   75.000000\n",
       "2     1999-11-12   70.500000\n",
       "3     1999-11-15   69.000000\n",
       "4     1999-11-16   66.000000\n",
       "...          ...         ...\n",
       "6057  2023-12-07  156.500000\n",
       "6058  2023-12-08  156.300003\n",
       "6059  2023-12-11  155.779999\n",
       "6060  2023-12-12  155.369995\n",
       "6061  2023-12-13  157.250000\n",
       "\n",
       "[6062 rows x 2 columns]"
      ]
     },
     "execution_count": 4,
     "metadata": {},
     "output_type": "execute_result"
    }
   ],
   "source": [
    "new_stock = stock[['Date', 'Close']]\n",
    "new_stock"
   ]
  },
  {
   "cell_type": "code",
   "execution_count": 5,
   "id": "720d31d0-c8c0-4fa1-aef6-20adf0528ef9",
   "metadata": {},
   "outputs": [
    {
     "data": {
      "text/plain": [
       "datetime.datetime(1986, 3, 19, 0, 0)"
      ]
     },
     "execution_count": 5,
     "metadata": {},
     "output_type": "execute_result"
    }
   ],
   "source": [
    "import datetime\n",
    "\n",
    "def str_to_datetime(s):\n",
    "  split = s.split('-')\n",
    "  year, month, day = int(split[0]), int(split[1]), int(split[2])\n",
    "  return datetime.datetime(year=year, month=month, day=day)\n",
    "\n",
    "datetime_object = str_to_datetime('1986-03-19')\n",
    "datetime_object"
   ]
  },
  {
   "cell_type": "code",
   "execution_count": 6,
   "id": "38cc821d-35d8-4870-b989-b1c4f361c42a",
   "metadata": {},
   "outputs": [
    {
     "name": "stderr",
     "output_type": "stream",
     "text": [
      "/tmp/ipykernel_45483/1022522595.py:1: SettingWithCopyWarning: \n",
      "A value is trying to be set on a copy of a slice from a DataFrame.\n",
      "Try using .loc[row_indexer,col_indexer] = value instead\n",
      "\n",
      "See the caveats in the documentation: https://pandas.pydata.org/pandas-docs/stable/user_guide/indexing.html#returning-a-view-versus-a-copy\n",
      "  new_stock['Date'] = new_stock['Date'].apply(str_to_datetime)\n"
     ]
    },
    {
     "data": {
      "text/plain": [
       "0      1999-11-10\n",
       "1      1999-11-11\n",
       "2      1999-11-12\n",
       "3      1999-11-15\n",
       "4      1999-11-16\n",
       "          ...    \n",
       "6057   2023-12-07\n",
       "6058   2023-12-08\n",
       "6059   2023-12-11\n",
       "6060   2023-12-12\n",
       "6061   2023-12-13\n",
       "Name: Date, Length: 6062, dtype: datetime64[ns]"
      ]
     },
     "execution_count": 6,
     "metadata": {},
     "output_type": "execute_result"
    }
   ],
   "source": [
    "new_stock['Date'] = new_stock['Date'].apply(str_to_datetime)\n",
    "new_stock['Date']"
   ]
  },
  {
   "cell_type": "code",
   "execution_count": 7,
   "id": "f7e7722f-ed55-4214-90d1-8e067e708330",
   "metadata": {},
   "outputs": [
    {
     "data": {
      "text/html": [
       "<div>\n",
       "<style scoped>\n",
       "    .dataframe tbody tr th:only-of-type {\n",
       "        vertical-align: middle;\n",
       "    }\n",
       "\n",
       "    .dataframe tbody tr th {\n",
       "        vertical-align: top;\n",
       "    }\n",
       "\n",
       "    .dataframe thead th {\n",
       "        text-align: right;\n",
       "    }\n",
       "</style>\n",
       "<table border=\"1\" class=\"dataframe\">\n",
       "  <thead>\n",
       "    <tr style=\"text-align: right;\">\n",
       "      <th></th>\n",
       "      <th>Close</th>\n",
       "    </tr>\n",
       "    <tr>\n",
       "      <th>Date</th>\n",
       "      <th></th>\n",
       "    </tr>\n",
       "  </thead>\n",
       "  <tbody>\n",
       "    <tr>\n",
       "      <th>1999-11-10</th>\n",
       "      <td>68.250000</td>\n",
       "    </tr>\n",
       "    <tr>\n",
       "      <th>1999-11-11</th>\n",
       "      <td>75.000000</td>\n",
       "    </tr>\n",
       "    <tr>\n",
       "      <th>1999-11-12</th>\n",
       "      <td>70.500000</td>\n",
       "    </tr>\n",
       "    <tr>\n",
       "      <th>1999-11-15</th>\n",
       "      <td>69.000000</td>\n",
       "    </tr>\n",
       "    <tr>\n",
       "      <th>1999-11-16</th>\n",
       "      <td>66.000000</td>\n",
       "    </tr>\n",
       "    <tr>\n",
       "      <th>...</th>\n",
       "      <td>...</td>\n",
       "    </tr>\n",
       "    <tr>\n",
       "      <th>2023-12-07</th>\n",
       "      <td>156.500000</td>\n",
       "    </tr>\n",
       "    <tr>\n",
       "      <th>2023-12-08</th>\n",
       "      <td>156.300003</td>\n",
       "    </tr>\n",
       "    <tr>\n",
       "      <th>2023-12-11</th>\n",
       "      <td>155.779999</td>\n",
       "    </tr>\n",
       "    <tr>\n",
       "      <th>2023-12-12</th>\n",
       "      <td>155.369995</td>\n",
       "    </tr>\n",
       "    <tr>\n",
       "      <th>2023-12-13</th>\n",
       "      <td>157.250000</td>\n",
       "    </tr>\n",
       "  </tbody>\n",
       "</table>\n",
       "<p>6062 rows × 1 columns</p>\n",
       "</div>"
      ],
      "text/plain": [
       "                 Close\n",
       "Date                  \n",
       "1999-11-10   68.250000\n",
       "1999-11-11   75.000000\n",
       "1999-11-12   70.500000\n",
       "1999-11-15   69.000000\n",
       "1999-11-16   66.000000\n",
       "...                ...\n",
       "2023-12-07  156.500000\n",
       "2023-12-08  156.300003\n",
       "2023-12-11  155.779999\n",
       "2023-12-12  155.369995\n",
       "2023-12-13  157.250000\n",
       "\n",
       "[6062 rows x 1 columns]"
      ]
     },
     "execution_count": 7,
     "metadata": {},
     "output_type": "execute_result"
    }
   ],
   "source": [
    "new_stock.index = new_stock.pop('Date')\n",
    "new_stock"
   ]
  },
  {
   "cell_type": "code",
   "execution_count": 8,
   "id": "2217465d-665f-4a8e-8336-e9b5c501f717",
   "metadata": {},
   "outputs": [
    {
     "data": {
      "text/plain": [
       "[<matplotlib.lines.Line2D at 0x7fc54b8bd790>]"
      ]
     },
     "execution_count": 8,
     "metadata": {},
     "output_type": "execute_result"
    },
    {
     "data": {
      "image/png": "[encoded data removed]",
      "text/plain": [
       "<Figure size 432x288 with 1 Axes>"
      ]
     },
     "metadata": {
      "needs_background": "light"
     },
     "output_type": "display_data"
    }
   ],
   "source": [
    "plt.plot(new_stock.index, new_stock['Close'])"
   ]
  },
  {
   "cell_type": "code",
   "execution_count": 11,
   "id": "e39146ab-4741-4d00-86d0-c63d75619124",
   "metadata": {},
   "outputs": [
    {
     "data": {
      "text/html": [
       "<div>\n",
       "<style scoped>\n",
       "    .dataframe tbody tr th:only-of-type {\n",
       "        vertical-align: middle;\n",
       "    }\n",
       "\n",
       "    .dataframe tbody tr th {\n",
       "        vertical-align: top;\n",
       "    }\n",
       "\n",
       "    .dataframe thead th {\n",
       "        text-align: right;\n",
       "    }\n",
       "</style>\n",
       "<table border=\"1\" class=\"dataframe\">\n",
       "  <thead>\n",
       "    <tr style=\"text-align: right;\">\n",
       "      <th></th>\n",
       "      <th>Target Date</th>\n",
       "      <th>Target-3</th>\n",
       "      <th>Target-2</th>\n",
       "      <th>Target-1</th>\n",
       "      <th>Target</th>\n",
       "    </tr>\n",
       "  </thead>\n",
       "  <tbody>\n",
       "    <tr>\n",
       "      <th>0</th>\n",
       "      <td>2021-03-25</td>\n",
       "      <td>161.059998</td>\n",
       "      <td>159.860001</td>\n",
       "      <td>159.910004</td>\n",
       "      <td>163.250000</td>\n",
       "    </tr>\n",
       "    <tr>\n",
       "      <th>1</th>\n",
       "      <td>2021-03-26</td>\n",
       "      <td>159.860001</td>\n",
       "      <td>159.910004</td>\n",
       "      <td>163.250000</td>\n",
       "      <td>167.979996</td>\n",
       "    </tr>\n",
       "    <tr>\n",
       "      <th>2</th>\n",
       "      <td>2021-03-29</td>\n",
       "      <td>159.910004</td>\n",
       "      <td>163.250000</td>\n",
       "      <td>167.979996</td>\n",
       "      <td>168.139999</td>\n",
       "    </tr>\n",
       "    <tr>\n",
       "      <th>3</th>\n",
       "      <td>2021-03-30</td>\n",
       "      <td>163.250000</td>\n",
       "      <td>167.979996</td>\n",
       "      <td>168.139999</td>\n",
       "      <td>168.639999</td>\n",
       "    </tr>\n",
       "    <tr>\n",
       "      <th>4</th>\n",
       "      <td>2021-03-31</td>\n",
       "      <td>167.979996</td>\n",
       "      <td>168.139999</td>\n",
       "      <td>168.639999</td>\n",
       "      <td>169.990005</td>\n",
       "    </tr>\n",
       "    <tr>\n",
       "      <th>...</th>\n",
       "      <td>...</td>\n",
       "      <td>...</td>\n",
       "      <td>...</td>\n",
       "      <td>...</td>\n",
       "      <td>...</td>\n",
       "    </tr>\n",
       "    <tr>\n",
       "      <th>681</th>\n",
       "      <td>2023-12-07</td>\n",
       "      <td>155.919998</td>\n",
       "      <td>154.160004</td>\n",
       "      <td>155.289993</td>\n",
       "      <td>156.500000</td>\n",
       "    </tr>\n",
       "    <tr>\n",
       "      <th>682</th>\n",
       "      <td>2023-12-08</td>\n",
       "      <td>154.160004</td>\n",
       "      <td>155.289993</td>\n",
       "      <td>156.500000</td>\n",
       "      <td>156.300003</td>\n",
       "    </tr>\n",
       "    <tr>\n",
       "      <th>683</th>\n",
       "      <td>2023-12-11</td>\n",
       "      <td>155.289993</td>\n",
       "      <td>156.500000</td>\n",
       "      <td>156.300003</td>\n",
       "      <td>155.779999</td>\n",
       "    </tr>\n",
       "    <tr>\n",
       "      <th>684</th>\n",
       "      <td>2023-12-12</td>\n",
       "      <td>156.500000</td>\n",
       "      <td>156.300003</td>\n",
       "      <td>155.779999</td>\n",
       "      <td>155.369995</td>\n",
       "    </tr>\n",
       "    <tr>\n",
       "      <th>685</th>\n",
       "      <td>2023-12-13</td>\n",
       "      <td>156.300003</td>\n",
       "      <td>155.779999</td>\n",
       "      <td>155.369995</td>\n",
       "      <td>157.250000</td>\n",
       "    </tr>\n",
       "  </tbody>\n",
       "</table>\n",
       "<p>686 rows × 5 columns</p>\n",
       "</div>"
      ],
      "text/plain": [
       "    Target Date    Target-3    Target-2    Target-1      Target\n",
       "0    2021-03-25  161.059998  159.860001  159.910004  163.250000\n",
       "1    2021-03-26  159.860001  159.910004  163.250000  167.979996\n",
       "2    2021-03-29  159.910004  163.250000  167.979996  168.139999\n",
       "3    2021-03-30  163.250000  167.979996  168.139999  168.639999\n",
       "4    2021-03-31  167.979996  168.139999  168.639999  169.990005\n",
       "..          ...         ...         ...         ...         ...\n",
       "681  2023-12-07  155.919998  154.160004  155.289993  156.500000\n",
       "682  2023-12-08  154.160004  155.289993  156.500000  156.300003\n",
       "683  2023-12-11  155.289993  156.500000  156.300003  155.779999\n",
       "684  2023-12-12  156.500000  156.300003  155.779999  155.369995\n",
       "685  2023-12-13  156.300003  155.779999  155.369995  157.250000\n",
       "\n",
       "[686 rows x 5 columns]"
      ]
     },
     "execution_count": 11,
     "metadata": {},
     "output_type": "execute_result"
    }
   ],
   "source": [
    "df = new_stock\n",
    "\n",
    "# Data Segmentation\n",
    "# Sections the data to one part of the dataframe\n",
    "# Allows for faster modeling and last strain on the machine\n",
    "\n",
    "def df_to_windowed_df(dataframe, first_date_str, last_date_str, n=3):\n",
    "  first_date = str_to_datetime(first_date_str)\n",
    "  last_date  = str_to_datetime(last_date_str)\n",
    "\n",
    "  target_date = first_date\n",
    "  \n",
    "  dates = []\n",
    "  X, Y = [], []\n",
    "\n",
    "  last_time = False\n",
    "  while True:\n",
    "    df_subset = dataframe.loc[:target_date].tail(n+1)\n",
    "    \n",
    "    if len(df_subset) != n+1:\n",
    "      print(f'Error: Window of size {n} is too large for date {target_date}')\n",
    "      return\n",
    "\n",
    "    values = df_subset['Close'].to_numpy()\n",
    "    x, y = values[:-1], values[-1]\n",
    "\n",
    "    dates.append(target_date)\n",
    "    X.append(x)\n",
    "    Y.append(y)\n",
    "\n",
    "    next_week = dataframe.loc[target_date:target_date+datetime.timedelta(days=7)]\n",
    "    next_datetime_str = str(next_week.head(2).tail(1).index.values[0])\n",
    "    next_date_str = next_datetime_str.split('T')[0]\n",
    "    year_month_day = next_date_str.split('-')\n",
    "    year, month, day = year_month_day\n",
    "    next_date = datetime.datetime(day=int(day), month=int(month), year=int(year))\n",
    "    \n",
    "    if last_time:\n",
    "      break\n",
    "    \n",
    "    target_date = next_date\n",
    "\n",
    "    if target_date == last_date:\n",
    "      last_time = True\n",
    "    \n",
    "  ret_df = pd.DataFrame({})\n",
    "  ret_df['Target Date'] = dates\n",
    "  \n",
    "  X = np.array(X)\n",
    "  for i in range(0, n):\n",
    "    X[:, i]\n",
    "    ret_df[f'Target-{n-i}'] = X[:, i]\n",
    "  \n",
    "  ret_df['Target'] = Y\n",
    "\n",
    "  return ret_df\n",
    "\n",
    "# Start day second time around: '2021-03-25'\n",
    "# Input desired days to see the observation of the predictions\n",
    "windowed_df = df_to_windowed_df(df, \n",
    "                                '2021-03-25', \n",
    "                                '2023-12-13', \n",
    "                                n=3)\n",
    "windowed_df"
   ]
  },
  {
   "cell_type": "code",
   "execution_count": 12,
   "id": "0320fa61-6322-4242-8dab-4fc12fd2603c",
   "metadata": {},
   "outputs": [
    {
     "data": {
      "text/plain": [
       "((686,), (686, 3, 1), (686,))"
      ]
     },
     "execution_count": 12,
     "metadata": {},
     "output_type": "execute_result"
    }
   ],
   "source": [
    "def windowed_df_to_date_X_y(windowed_dataframe):\n",
    "  df_as_np = windowed_dataframe.to_numpy()\n",
    "\n",
    "  dates = df_as_np[:, 0]\n",
    "\n",
    "  middle_matrix = df_as_np[:, 1:-1]\n",
    "  X = middle_matrix.reshape((len(dates), middle_matrix.shape[1], 1))\n",
    "\n",
    "  Y = df_as_np[:, -1]\n",
    "\n",
    "  return dates, X.astype(np.float32), Y.astype(np.float32)\n",
    "\n",
    "dates, X, y = windowed_df_to_date_X_y(windowed_df)\n",
    "\n",
    "dates.shape, X.shape, y.shape"
   ]
  },
  {
   "cell_type": "code",
   "execution_count": 13,
   "id": "b0cc0434-0290-44f6-8bdf-a4dc4ff43207",
   "metadata": {},
   "outputs": [
    {
     "data": {
      "text/plain": [
       "<matplotlib.legend.Legend at 0x7fc543eba190>"
      ]
     },
     "execution_count": 13,
     "metadata": {},
     "output_type": "execute_result"
    },
    {
     "data": {
      "image/png": "[encoded data removed]",
      "text/plain": [
       "<Figure size 432x288 with 1 Axes>"
      ]
     },
     "metadata": {
      "needs_background": "light"
     },
     "output_type": "display_data"
    }
   ],
   "source": [
    "# Train/Test data split\n",
    "# Sets 80% of data as training data\n",
    "# Sets 10% as Validation and 10% as testing\n",
    "q_80 = int(len(dates) * .8)\n",
    "q_90 = int(len(dates) * .9)\n",
    "\n",
    "dates_train, X_train, y_train = dates[:q_80], X[:q_80], y[:q_80]\n",
    "\n",
    "dates_val, X_val, y_val = dates[q_80:q_90], X[q_80:q_90], y[q_80:q_90]\n",
    "dates_test, X_test, y_test = dates[q_90:], X[q_90:], y[q_90:]\n",
    "\n",
    "plt.title(\"\n",
    "plt.plot(dates_train, y_train)\n",
    "plt.plot(dates_val, y_val)\n",
    "plt.plot(dates_test, y_test)\n",
    "\n",
    "plt.legend(['Train', 'Validation', 'Test'])"
   ]
  },
  {
   "cell_type": "code",
   "execution_count": 14,
   "id": "6afe2271-9843-486d-95e5-d9e8d4638094",
   "metadata": {},
   "outputs": [
    {
     "name": "stdout",
     "output_type": "stream",
     "text": [
      "Epoch 1/100\n",
      "18/18 [==============================] - 2s 23ms/step - loss: 36653.0781 - mean_absolute_error: 190.7954 - val_loss: 30290.2539 - val_mean_absolute_error: 173.8984\n",
      "Epoch 2/100\n",
      "18/18 [==============================] - 0s 5ms/step - loss: 35103.4141 - mean_absolute_error: 186.6865 - val_loss: 28003.8867 - val_mean_absolute_error: 167.1938\n",
      "Epoch 3/100\n",
      "18/18 [==============================] - 0s 5ms/step - loss: 30742.6934 - mean_absolute_error: 174.4713 - val_loss: 20509.2480 - val_mean_absolute_error: 143.0270\n",
      "Epoch 4/100\n",
      "18/18 [==============================] - 0s 5ms/step - loss: 19126.8340 - mean_absolute_error: 136.5507 - val_loss: 7700.3345 - val_mean_absolute_error: 87.4584\n",
      "Epoch 5/100\n",
      "18/18 [==============================] - 0s 5ms/step - loss: 5696.7598 - mean_absolute_error: 70.4039 - val_loss: 175.6626 - val_mean_absolute_error: 11.2575\n",
      "Epoch 6/100\n",
      "18/18 [==============================] - 0s 5ms/step - loss: 412.9908 - mean_absolute_error: 16.8342 - val_loss: 897.3593 - val_mean_absolute_error: 29.1143\n",
      "Epoch 7/100\n",
      "18/18 [==============================] - 0s 4ms/step - loss: 339.3231 - mean_absolute_error: 15.5780 - val_loss: 302.2150 - val_mean_absolute_error: 15.8962\n",
      "Epoch 8/100\n",
      "18/18 [==============================] - 0s 4ms/step - loss: 255.9670 - mean_absolute_error: 13.4551 - val_loss: 219.2524 - val_mean_absolute_error: 13.0292\n",
      "Epoch 9/100\n",
      "18/18 [==============================] - 0s 4ms/step - loss: 248.5945 - mean_absolute_error: 13.3626 - val_loss: 299.6214 - val_mean_absolute_error: 15.8202\n",
      "Epoch 10/100\n",
      "18/18 [==============================] - 0s 4ms/step - loss: 248.9000 - mean_absolute_error: 13.4095 - val_loss: 270.2412 - val_mean_absolute_error: 14.8633\n",
      "Epoch 11/100\n",
      "18/18 [==============================] - 0s 4ms/step - loss: 243.7699 - mean_absolute_error: 13.1918 - val_loss: 222.9917 - val_mean_absolute_error: 13.3222\n",
      "Epoch 12/100\n",
      "18/18 [==============================] - 0s 4ms/step - loss: 226.0061 - mean_absolute_error: 12.6987 - val_loss: 271.4899 - val_mean_absolute_error: 15.0844\n",
      "Epoch 13/100\n",
      "18/18 [==============================] - 0s 4ms/step - loss: 220.2651 - mean_absolute_error: 12.5426 - val_loss: 282.2328 - val_mean_absolute_error: 15.5619\n",
      "Epoch 14/100\n",
      "18/18 [==============================] - 0s 4ms/step - loss: 192.2427 - mean_absolute_error: 11.6974 - val_loss: 125.0807 - val_mean_absolute_error: 9.6019\n",
      "Epoch 15/100\n",
      "18/18 [==============================] - 0s 4ms/step - loss: 154.9854 - mean_absolute_error: 10.3125 - val_loss: 75.9423 - val_mean_absolute_error: 7.4269\n",
      "Epoch 16/100\n",
      "18/18 [==============================] - 0s 4ms/step - loss: 108.3411 - mean_absolute_error: 8.5840 - val_loss: 26.3727 - val_mean_absolute_error: 4.2267\n",
      "Epoch 17/100\n",
      "18/18 [==============================] - 0s 5ms/step - loss: 74.9236 - mean_absolute_error: 6.9809 - val_loss: 17.3862 - val_mean_absolute_error: 3.4327\n",
      "Epoch 18/100\n",
      "18/18 [==============================] - 0s 5ms/step - loss: 44.3856 - mean_absolute_error: 5.2456 - val_loss: 6.3714 - val_mean_absolute_error: 2.0889\n",
      "Epoch 19/100\n",
      "18/18 [==============================] - 0s 4ms/step - loss: 25.8147 - mean_absolute_error: 3.8503 - val_loss: 14.6294 - val_mean_absolute_error: 3.2751\n",
      "Epoch 20/100\n",
      "18/18 [==============================] - 0s 4ms/step - loss: 19.6409 - mean_absolute_error: 3.2884 - val_loss: 6.3487 - val_mean_absolute_error: 2.0476\n",
      "Epoch 21/100\n",
      "18/18 [==============================] - 0s 4ms/step - loss: 16.9285 - mean_absolute_error: 2.9515 - val_loss: 7.5596 - val_mean_absolute_error: 2.2616\n",
      "Epoch 22/100\n",
      "18/18 [==============================] - 0s 4ms/step - loss: 16.5727 - mean_absolute_error: 2.9455 - val_loss: 16.5562 - val_mean_absolute_error: 3.5452\n",
      "Epoch 23/100\n",
      "18/18 [==============================] - 0s 4ms/step - loss: 15.5768 - mean_absolute_error: 2.8447 - val_loss: 6.9269 - val_mean_absolute_error: 2.1590\n",
      "Epoch 24/100\n",
      "18/18 [==============================] - 0s 4ms/step - loss: 19.1352 - mean_absolute_error: 3.3062 - val_loss: 8.5474 - val_mean_absolute_error: 2.4012\n",
      "Epoch 25/100\n",
      "18/18 [==============================] - 0s 4ms/step - loss: 14.5770 - mean_absolute_error: 2.7458 - val_loss: 4.9961 - val_mean_absolute_error: 1.8850\n",
      "Epoch 26/100\n",
      "18/18 [==============================] - 0s 4ms/step - loss: 14.9778 - mean_absolute_error: 2.8399 - val_loss: 9.1050 - val_mean_absolute_error: 2.4849\n",
      "Epoch 27/100\n",
      "18/18 [==============================] - 0s 4ms/step - loss: 14.6419 - mean_absolute_error: 2.7467 - val_loss: 6.6217 - val_mean_absolute_error: 2.1076\n",
      "Epoch 28/100\n",
      "18/18 [==============================] - 0s 4ms/step - loss: 13.8098 - mean_absolute_error: 2.6511 - val_loss: 4.9946 - val_mean_absolute_error: 1.8737\n",
      "Epoch 29/100\n",
      "18/18 [==============================] - 0s 4ms/step - loss: 13.3789 - mean_absolute_error: 2.5602 - val_loss: 6.5529 - val_mean_absolute_error: 2.1035\n",
      "Epoch 30/100\n",
      "18/18 [==============================] - 0s 4ms/step - loss: 13.5338 - mean_absolute_error: 2.5842 - val_loss: 5.8828 - val_mean_absolute_error: 1.9997\n",
      "Epoch 31/100\n",
      "18/18 [==============================] - 0s 4ms/step - loss: 13.7174 - mean_absolute_error: 2.6335 - val_loss: 5.6715 - val_mean_absolute_error: 1.9553\n",
      "Epoch 32/100\n",
      "18/18 [==============================] - 0s 4ms/step - loss: 12.9850 - mean_absolute_error: 2.5538 - val_loss: 12.1559 - val_mean_absolute_error: 2.8295\n",
      "Epoch 33/100\n",
      "18/18 [==============================] - 0s 4ms/step - loss: 17.2409 - mean_absolute_error: 3.1692 - val_loss: 5.4008 - val_mean_absolute_error: 1.9204\n",
      "Epoch 34/100\n",
      "18/18 [==============================] - 0s 4ms/step - loss: 13.8743 - mean_absolute_error: 2.6355 - val_loss: 5.6064 - val_mean_absolute_error: 1.9555\n",
      "Epoch 35/100\n",
      "18/18 [==============================] - 0s 4ms/step - loss: 13.6355 - mean_absolute_error: 2.5941 - val_loss: 9.2132 - val_mean_absolute_error: 2.4741\n",
      "Epoch 36/100\n",
      "18/18 [==============================] - 0s 4ms/step - loss: 15.9390 - mean_absolute_error: 3.0024 - val_loss: 11.7554 - val_mean_absolute_error: 2.7825\n",
      "Epoch 37/100\n",
      "18/18 [==============================] - 0s 4ms/step - loss: 17.5523 - mean_absolute_error: 3.1216 - val_loss: 4.9799 - val_mean_absolute_error: 1.8527\n",
      "Epoch 38/100\n",
      "18/18 [==============================] - 0s 4ms/step - loss: 14.2799 - mean_absolute_error: 2.6796 - val_loss: 5.1929 - val_mean_absolute_error: 1.8847\n",
      "Epoch 39/100\n",
      "18/18 [==============================] - 0s 4ms/step - loss: 12.5948 - mean_absolute_error: 2.4449 - val_loss: 4.9834 - val_mean_absolute_error: 1.8630\n",
      "Epoch 40/100\n",
      "18/18 [==============================] - 0s 5ms/step - loss: 12.3633 - mean_absolute_error: 2.4318 - val_loss: 11.7467 - val_mean_absolute_error: 2.9030\n",
      "Epoch 41/100\n",
      "18/18 [==============================] - 0s 4ms/step - loss: 14.9539 - mean_absolute_error: 2.8259 - val_loss: 12.9754 - val_mean_absolute_error: 3.0931\n",
      "Epoch 42/100\n",
      "18/18 [==============================] - 0s 4ms/step - loss: 14.2246 - mean_absolute_error: 2.6691 - val_loss: 6.9727 - val_mean_absolute_error: 2.1537\n",
      "Epoch 43/100\n",
      "18/18 [==============================] - 0s 4ms/step - loss: 13.6758 - mean_absolute_error: 2.6511 - val_loss: 6.5268 - val_mean_absolute_error: 2.0863\n",
      "Epoch 44/100\n",
      "18/18 [==============================] - 0s 4ms/step - loss: 14.2621 - mean_absolute_error: 2.6939 - val_loss: 5.0814 - val_mean_absolute_error: 1.8658\n",
      "Epoch 45/100\n",
      "18/18 [==============================] - 0s 4ms/step - loss: 12.5409 - mean_absolute_error: 2.4401 - val_loss: 5.4867 - val_mean_absolute_error: 1.9294\n",
      "Epoch 46/100\n",
      "18/18 [==============================] - 0s 4ms/step - loss: 13.1037 - mean_absolute_error: 2.5832 - val_loss: 6.6595 - val_mean_absolute_error: 2.1275\n",
      "Epoch 47/100\n",
      "18/18 [==============================] - 0s 4ms/step - loss: 13.5511 - mean_absolute_error: 2.5771 - val_loss: 5.9122 - val_mean_absolute_error: 1.9901\n",
      "Epoch 48/100\n",
      "18/18 [==============================] - 0s 4ms/step - loss: 13.4100 - mean_absolute_error: 2.6311 - val_loss: 7.1084 - val_mean_absolute_error: 2.1995\n",
      "Epoch 49/100\n",
      "18/18 [==============================] - 0s 4ms/step - loss: 15.0220 - mean_absolute_error: 2.7533 - val_loss: 5.4765 - val_mean_absolute_error: 1.9281\n",
      "Epoch 50/100\n",
      "18/18 [==============================] - 0s 4ms/step - loss: 13.3275 - mean_absolute_error: 2.5755 - val_loss: 5.0418 - val_mean_absolute_error: 1.8610\n",
      "Epoch 51/100\n",
      "18/18 [==============================] - 0s 4ms/step - loss: 12.2538 - mean_absolute_error: 2.4145 - val_loss: 6.0865 - val_mean_absolute_error: 2.0273\n",
      "Epoch 52/100\n",
      "18/18 [==============================] - 0s 4ms/step - loss: 14.3043 - mean_absolute_error: 2.7153 - val_loss: 6.3687 - val_mean_absolute_error: 2.0631\n",
      "Epoch 53/100\n",
      "18/18 [==============================] - 0s 4ms/step - loss: 12.7647 - mean_absolute_error: 2.5276 - val_loss: 5.9810 - val_mean_absolute_error: 2.0039\n",
      "Epoch 54/100\n",
      "18/18 [==============================] - 0s 4ms/step - loss: 13.3798 - mean_absolute_error: 2.5899 - val_loss: 5.0639 - val_mean_absolute_error: 1.8624\n",
      "Epoch 55/100\n",
      "18/18 [==============================] - 0s 4ms/step - loss: 12.6208 - mean_absolute_error: 2.4959 - val_loss: 4.9678 - val_mean_absolute_error: 1.8459\n",
      "Epoch 56/100\n",
      "18/18 [==============================] - 0s 5ms/step - loss: 13.0875 - mean_absolute_error: 2.5207 - val_loss: 6.2739 - val_mean_absolute_error: 2.0475\n",
      "Epoch 57/100\n",
      "18/18 [==============================] - 0s 4ms/step - loss: 12.4702 - mean_absolute_error: 2.4212 - val_loss: 5.2394 - val_mean_absolute_error: 1.8948\n",
      "Epoch 58/100\n",
      "18/18 [==============================] - 0s 4ms/step - loss: 12.3893 - mean_absolute_error: 2.4261 - val_loss: 8.2584 - val_mean_absolute_error: 2.3363\n",
      "Epoch 59/100\n",
      "18/18 [==============================] - 0s 4ms/step - loss: 13.3116 - mean_absolute_error: 2.5347 - val_loss: 8.0001 - val_mean_absolute_error: 2.3054\n",
      "Epoch 60/100\n",
      "18/18 [==============================] - 0s 4ms/step - loss: 13.0127 - mean_absolute_error: 2.4957 - val_loss: 7.5090 - val_mean_absolute_error: 2.2359\n",
      "Epoch 61/100\n",
      "18/18 [==============================] - 0s 4ms/step - loss: 12.8223 - mean_absolute_error: 2.5252 - val_loss: 5.2679 - val_mean_absolute_error: 1.8942\n",
      "Epoch 62/100\n",
      "18/18 [==============================] - 0s 4ms/step - loss: 12.6817 - mean_absolute_error: 2.5390 - val_loss: 4.8563 - val_mean_absolute_error: 1.8248\n",
      "Epoch 63/100\n",
      "18/18 [==============================] - 0s 4ms/step - loss: 12.7500 - mean_absolute_error: 2.5239 - val_loss: 8.2440 - val_mean_absolute_error: 2.3557\n",
      "Epoch 64/100\n",
      "18/18 [==============================] - 0s 4ms/step - loss: 13.9621 - mean_absolute_error: 2.6895 - val_loss: 7.7145 - val_mean_absolute_error: 2.2573\n",
      "Epoch 65/100\n",
      "18/18 [==============================] - 0s 4ms/step - loss: 13.7856 - mean_absolute_error: 2.6432 - val_loss: 12.2545 - val_mean_absolute_error: 3.0002\n",
      "Epoch 66/100\n",
      "18/18 [==============================] - 0s 4ms/step - loss: 14.6548 - mean_absolute_error: 2.7240 - val_loss: 5.5927 - val_mean_absolute_error: 1.9402\n",
      "Epoch 67/100\n",
      "18/18 [==============================] - 0s 4ms/step - loss: 12.2919 - mean_absolute_error: 2.4447 - val_loss: 4.8074 - val_mean_absolute_error: 1.8145\n",
      "Epoch 68/100\n",
      "18/18 [==============================] - 0s 4ms/step - loss: 12.3820 - mean_absolute_error: 2.5008 - val_loss: 4.6624 - val_mean_absolute_error: 1.7905\n",
      "Epoch 69/100\n",
      "18/18 [==============================] - 0s 5ms/step - loss: 13.0640 - mean_absolute_error: 2.5474 - val_loss: 5.9939 - val_mean_absolute_error: 2.0242\n",
      "Epoch 70/100\n",
      "18/18 [==============================] - 0s 5ms/step - loss: 14.9499 - mean_absolute_error: 2.8280 - val_loss: 4.7545 - val_mean_absolute_error: 1.8042\n",
      "Epoch 71/100\n",
      "18/18 [==============================] - 0s 5ms/step - loss: 16.1671 - mean_absolute_error: 2.9594 - val_loss: 8.0248 - val_mean_absolute_error: 2.3091\n",
      "Epoch 72/100\n",
      "18/18 [==============================] - 0s 5ms/step - loss: 13.0865 - mean_absolute_error: 2.5494 - val_loss: 4.8763 - val_mean_absolute_error: 1.8337\n",
      "Epoch 73/100\n",
      "18/18 [==============================] - 0s 4ms/step - loss: 12.8852 - mean_absolute_error: 2.5097 - val_loss: 5.4614 - val_mean_absolute_error: 1.9161\n",
      "Epoch 74/100\n",
      "18/18 [==============================] - 0s 4ms/step - loss: 12.3803 - mean_absolute_error: 2.4465 - val_loss: 4.8980 - val_mean_absolute_error: 1.8303\n",
      "Epoch 75/100\n",
      "18/18 [==============================] - 0s 4ms/step - loss: 13.0409 - mean_absolute_error: 2.5691 - val_loss: 7.0425 - val_mean_absolute_error: 2.1569\n",
      "Epoch 76/100\n",
      "18/18 [==============================] - 0s 4ms/step - loss: 13.4010 - mean_absolute_error: 2.6116 - val_loss: 8.3059 - val_mean_absolute_error: 2.3550\n",
      "Epoch 77/100\n",
      "18/18 [==============================] - 0s 4ms/step - loss: 14.1215 - mean_absolute_error: 2.6623 - val_loss: 7.9000 - val_mean_absolute_error: 2.2812\n",
      "Epoch 78/100\n",
      "18/18 [==============================] - 0s 4ms/step - loss: 12.3572 - mean_absolute_error: 2.4466 - val_loss: 6.2564 - val_mean_absolute_error: 2.0358\n",
      "Epoch 79/100\n",
      "18/18 [==============================] - 0s 4ms/step - loss: 14.1364 - mean_absolute_error: 2.7122 - val_loss: 9.6275 - val_mean_absolute_error: 2.5684\n",
      "Epoch 80/100\n",
      "18/18 [==============================] - 0s 4ms/step - loss: 14.2876 - mean_absolute_error: 2.7199 - val_loss: 4.8416 - val_mean_absolute_error: 1.8241\n",
      "Epoch 81/100\n",
      "18/18 [==============================] - 0s 5ms/step - loss: 13.3732 - mean_absolute_error: 2.6145 - val_loss: 5.1035 - val_mean_absolute_error: 1.8643\n",
      "Epoch 82/100\n",
      "18/18 [==============================] - 0s 4ms/step - loss: 13.8226 - mean_absolute_error: 2.7100 - val_loss: 7.3617 - val_mean_absolute_error: 2.2086\n",
      "Epoch 83/100\n",
      "18/18 [==============================] - 0s 4ms/step - loss: 13.7904 - mean_absolute_error: 2.6329 - val_loss: 7.5805 - val_mean_absolute_error: 2.2348\n",
      "Epoch 84/100\n",
      "18/18 [==============================] - 0s 4ms/step - loss: 12.9739 - mean_absolute_error: 2.5314 - val_loss: 4.6500 - val_mean_absolute_error: 1.7920\n",
      "Epoch 85/100\n",
      "18/18 [==============================] - 0s 4ms/step - loss: 12.1481 - mean_absolute_error: 2.4601 - val_loss: 9.0381 - val_mean_absolute_error: 2.4871\n",
      "Epoch 86/100\n",
      "18/18 [==============================] - 0s 4ms/step - loss: 12.7720 - mean_absolute_error: 2.5180 - val_loss: 4.6124 - val_mean_absolute_error: 1.7840\n",
      "Epoch 87/100\n",
      "18/18 [==============================] - 0s 4ms/step - loss: 12.5787 - mean_absolute_error: 2.4790 - val_loss: 5.2536 - val_mean_absolute_error: 1.8907\n",
      "Epoch 88/100\n",
      "18/18 [==============================] - 0s 4ms/step - loss: 14.1256 - mean_absolute_error: 2.7002 - val_loss: 4.6181 - val_mean_absolute_error: 1.7816\n",
      "Epoch 89/100\n",
      "18/18 [==============================] - 0s 5ms/step - loss: 12.5550 - mean_absolute_error: 2.4860 - val_loss: 5.0871 - val_mean_absolute_error: 1.8603\n",
      "Epoch 90/100\n",
      "18/18 [==============================] - 0s 4ms/step - loss: 12.3138 - mean_absolute_error: 2.4507 - val_loss: 5.3467 - val_mean_absolute_error: 1.9067\n",
      "Epoch 91/100\n",
      "18/18 [==============================] - 0s 4ms/step - loss: 12.6947 - mean_absolute_error: 2.5219 - val_loss: 7.5921 - val_mean_absolute_error: 2.2345\n",
      "Epoch 92/100\n",
      "18/18 [==============================] - 0s 4ms/step - loss: 14.4143 - mean_absolute_error: 2.7439 - val_loss: 6.5262 - val_mean_absolute_error: 2.1120\n",
      "Epoch 93/100\n",
      "18/18 [==============================] - 0s 4ms/step - loss: 12.8689 - mean_absolute_error: 2.5715 - val_loss: 8.8427 - val_mean_absolute_error: 2.4103\n",
      "Epoch 94/100\n",
      "18/18 [==============================] - 0s 4ms/step - loss: 14.5832 - mean_absolute_error: 2.8060 - val_loss: 14.7928 - val_mean_absolute_error: 3.2293\n",
      "Epoch 95/100\n",
      "18/18 [==============================] - 0s 4ms/step - loss: 17.1877 - mean_absolute_error: 3.1223 - val_loss: 11.9894 - val_mean_absolute_error: 2.8586\n",
      "Epoch 96/100\n",
      "18/18 [==============================] - 0s 4ms/step - loss: 14.8830 - mean_absolute_error: 2.8709 - val_loss: 5.0269 - val_mean_absolute_error: 1.8523\n",
      "Epoch 97/100\n",
      "18/18 [==============================] - 0s 4ms/step - loss: 14.8230 - mean_absolute_error: 2.7942 - val_loss: 6.1127 - val_mean_absolute_error: 2.0064\n",
      "Epoch 98/100\n",
      "18/18 [==============================] - 0s 4ms/step - loss: 14.2610 - mean_absolute_error: 2.7193 - val_loss: 4.7412 - val_mean_absolute_error: 1.8021\n",
      "Epoch 99/100\n",
      "18/18 [==============================] - 0s 4ms/step - loss: 12.3514 - mean_absolute_error: 2.4704 - val_loss: 4.5066 - val_mean_absolute_error: 1.7618\n",
      "Epoch 100/100\n",
      "18/18 [==============================] - 0s 4ms/step - loss: 14.2836 - mean_absolute_error: 2.7718 - val_loss: 11.2214 - val_mean_absolute_error: 2.8126\n"
     ]
    },
    {
     "data": {
      "text/plain": [
       "<keras.src.callbacks.History at 0x7fc54b97c9d0>"
      ]
     },
     "execution_count": 14,
     "metadata": {},
     "output_type": "execute_result"
    }
   ],
   "source": [
    "from tensorflow.keras.models import Sequential\n",
    "from tensorflow.keras.optimizers import Adam\n",
    "from tensorflow.keras import layers\n",
    "\n",
    "model = Sequential([layers.Input((3, 1)),\n",
    "                    layers.LSTM(128),\n",
    "                    layers.Dense(64, activation='relu'),\n",
    "                    layers.Dense(64, activation='relu'),\n",
    "                    layers.Dense(1)])\n",
    "\n",
    "model.compile(loss='mse', \n",
    "              optimizer=Adam(learning_rate=0.001),\n",
    "              metrics=['mean_absolute_error'])\n",
    "\n",
    "model.fit(X_train, y_train, validation_data=(X_val, y_val), epochs=100)"
   ]
  },
  {
   "cell_type": "code",
   "execution_count": 15,
   "id": "01b2958f-4b55-49e8-ae31-b1662a1f87b6",
   "metadata": {},
   "outputs": [
    {
     "name": "stdout",
     "output_type": "stream",
     "text": [
      "3/3 [==============================] - 0s 3ms/step - loss: 59.6422 - mean_absolute_error: 7.2598\n",
      "MAE on Test Set: [59.64219665527344, 7.259778022766113]\n"
     ]
    }
   ],
   "source": [
    "# Evaluate the model on the test set\n",
    "loss = model.evaluate(X_test, y_test)\n",
    "print(f'MAE on Test Set: {loss}')"
   ]
  },
  {
   "cell_type": "code",
   "execution_count": 23,
   "id": "a4e1ab87-5603-48b3-ae5d-b3aef99205be",
   "metadata": {},
   "outputs": [
    {
     "name": "stdout",
     "output_type": "stream",
     "text": [
      "18/18 [==============================] - 0s 2ms/step\n"
     ]
    },
    {
     "data": {
      "text/plain": [
       "<matplotlib.legend.Legend at 0x7fc5200e8b50>"
      ]
     },
     "execution_count": 23,
     "metadata": {},
     "output_type": "execute_result"
    },
    {
     "data": {
      "image/png": "[encoded data removed]",
      "text/plain": [
       "<Figure size 432x288 with 1 Axes>"
      ]
     },
     "metadata": {
      "needs_background": "light"
     },
     "output_type": "display_data"
    }
   ],
   "source": [
    "train_predictions = model.predict(X_train).flatten()\n",
    "\n",
    "plt.title(\"Training Model\")\n",
    "plt.plot(dates_train, train_predictions, color = 'blue')\n",
    "plt.plot(dates_train, y_train, color = 'orange')\n",
    "plt.legend(['Training Predictions', 'Training Observations'])"
   ]
  },
  {
   "cell_type": "code",
   "execution_count": 24,
   "id": "40fbd3d6-1fc9-4554-9858-582982a0f3cb",
   "metadata": {},
   "outputs": [
    {
     "name": "stdout",
     "output_type": "stream",
     "text": [
      "3/3 [==============================] - 0s 3ms/step\n"
     ]
    },
    {
     "data": {
      "text/plain": [
       "<matplotlib.legend.Legend at 0x7fc520077400>"
      ]
     },
     "execution_count": 24,
     "metadata": {},
     "output_type": "execute_result"
    },
    {
     "data": {
      "image/png": "[encoded data removed]",
      "text/plain": [
       "<Figure size 432x288 with 1 Axes>"
      ]
     },
     "metadata": {
      "needs_background": "light"
     },
     "output_type": "display_data"
    }
   ],
   "source": [
    "val_predictions = model.predict(X_val).flatten()\n",
    "\n",
    "plt.title(\"Validation Model\")\n",
    "plt.plot(dates_val, val_predictions, color = 'green')\n",
    "plt.plot(dates_val, y_val, color = 'red')\n",
    "plt.legend(['Validation Predictions', 'Validation Observations'])"
   ]
  },
  {
   "cell_type": "code",
   "execution_count": 25,
   "id": "d34769af-6f7a-4a26-a727-35ac9e9548a1",
   "metadata": {},
   "outputs": [
    {
     "name": "stdout",
     "output_type": "stream",
     "text": [
      "3/3 [==============================] - 0s 2ms/step\n"
     ]
    },
    {
     "data": {
      "text/plain": [
       "<matplotlib.legend.Legend at 0x7fc50071af40>"
      ]
     },
     "execution_count": 25,
     "metadata": {},
     "output_type": "execute_result"
    },
    {
     "data": {
      "image/png": "[encoded data removed]",
      "text/plain": [
       "<Figure size 432x288 with 1 Axes>"
      ]
     },
     "metadata": {
      "needs_background": "light"
     },
     "output_type": "display_data"
    }
   ],
   "source": [
    "test_predictions = model.predict(X_test).flatten()\n",
    "\n",
    "plt.title(\"Testing Model\")\n",
    "plt.plot(dates_test, test_predictions, color = 'magenta')\n",
    "plt.plot(dates_test, y_test, color = 'brown')\n",
    "plt.legend(['Testing Predictions', 'Testing Observations'])"
   ]
  },
  {
   "cell_type": "code",
   "execution_count": 27,
   "id": "87b41444-59e8-4b7e-bc67-ecf338397b3d",
   "metadata": {},
   "outputs": [
    {
     "data": {
      "text/plain": [
       "<matplotlib.legend.Legend at 0x7fc50062b400>"
      ]
     },
     "execution_count": 27,
     "metadata": {},
     "output_type": "execute_result"
    },
    {
     "data": {
      "image/png": "[encoded data removed]",
      "text/plain": [
       "<Figure size 432x288 with 1 Axes>"
      ]
     },
     "metadata": {
      "needs_background": "light"
     },
     "output_type": "display_data"
    }
   ],
   "source": [
    "plt.title(\"All Predictions Model\")\n",
    "plt.plot(dates_train, train_predictions, color = 'blue')\n",
    "plt.plot(dates_train, y_train, color = 'orange')\n",
    "plt.plot(dates_val, val_predictions, color = 'green')\n",
    "plt.plot(dates_val, y_val, color = 'red')\n",
    "plt.plot(dates_test, test_predictions, color = 'magenta')\n",
    "plt.plot(dates_test, y_test, color = 'brown')\n",
    "plt.legend(['Training Predictions', \n",
    "            'Training Observations',\n",
    "            'Validation Predictions', \n",
    "            'Validation Observations',\n",
    "            'Testing Predictions', \n",
    "            'Testing Observations'])"
   ]
  },
  {
   "cell_type": "code",
   "execution_count": 20,
   "id": "72dc91c7-7393-4e40-9255-57184a995074",
   "metadata": {},
   "outputs": [
    {
     "name": "stdout",
     "output_type": "stream",
     "text": [
      "1/1 [==============================] - 0s 14ms/step\n",
      "1/1 [==============================] - 0s 14ms/step\n",
      "1/1 [==============================] - 0s 13ms/step\n",
      "1/1 [==============================] - 0s 13ms/step\n",
      "1/1 [==============================] - 0s 15ms/step\n",
      "1/1 [==============================] - 0s 13ms/step\n",
      "1/1 [==============================] - 0s 14ms/step\n",
      "1/1 [==============================] - 0s 14ms/step\n",
      "1/1 [==============================] - 0s 12ms/step\n",
      "1/1 [==============================] - 0s 13ms/step\n",
      "1/1 [==============================] - 0s 12ms/step\n",
      "1/1 [==============================] - 0s 12ms/step\n",
      "1/1 [==============================] - 0s 12ms/step\n",
      "1/1 [==============================] - 0s 12ms/step\n",
      "1/1 [==============================] - 0s 12ms/step\n",
      "1/1 [==============================] - 0s 12ms/step\n",
      "1/1 [==============================] - 0s 13ms/step\n",
      "1/1 [==============================] - 0s 13ms/step\n",
      "1/1 [==============================] - 0s 12ms/step\n",
      "1/1 [==============================] - 0s 13ms/step\n",
      "1/1 [==============================] - 0s 12ms/step\n",
      "1/1 [==============================] - 0s 13ms/step\n",
      "1/1 [==============================] - 0s 12ms/step\n",
      "1/1 [==============================] - 0s 12ms/step\n",
      "1/1 [==============================] - 0s 12ms/step\n",
      "1/1 [==============================] - 0s 13ms/step\n",
      "1/1 [==============================] - 0s 12ms/step\n",
      "1/1 [==============================] - 0s 13ms/step\n",
      "1/1 [==============================] - 0s 12ms/step\n",
      "1/1 [==============================] - 0s 12ms/step\n",
      "1/1 [==============================] - 0s 13ms/step\n",
      "1/1 [==============================] - 0s 12ms/step\n",
      "1/1 [==============================] - 0s 13ms/step\n",
      "1/1 [==============================] - 0s 13ms/step\n",
      "1/1 [==============================] - 0s 12ms/step\n",
      "1/1 [==============================] - 0s 13ms/step\n",
      "1/1 [==============================] - 0s 12ms/step\n",
      "1/1 [==============================] - 0s 12ms/step\n",
      "1/1 [==============================] - 0s 13ms/step\n",
      "1/1 [==============================] - 0s 13ms/step\n",
      "1/1 [==============================] - 0s 12ms/step\n",
      "1/1 [==============================] - 0s 12ms/step\n",
      "1/1 [==============================] - 0s 12ms/step\n",
      "1/1 [==============================] - 0s 13ms/step\n",
      "1/1 [==============================] - 0s 13ms/step\n",
      "1/1 [==============================] - 0s 13ms/step\n",
      "1/1 [==============================] - 0s 13ms/step\n",
      "1/1 [==============================] - 0s 12ms/step\n",
      "1/1 [==============================] - 0s 12ms/step\n",
      "1/1 [==============================] - 0s 12ms/step\n",
      "1/1 [==============================] - 0s 12ms/step\n",
      "1/1 [==============================] - 0s 12ms/step\n",
      "1/1 [==============================] - 0s 12ms/step\n",
      "1/1 [==============================] - 0s 13ms/step\n",
      "1/1 [==============================] - 0s 12ms/step\n",
      "1/1 [==============================] - 0s 12ms/step\n",
      "1/1 [==============================] - 0s 12ms/step\n",
      "1/1 [==============================] - 0s 12ms/step\n",
      "1/1 [==============================] - 0s 13ms/step\n",
      "1/1 [==============================] - 0s 12ms/step\n",
      "1/1 [==============================] - 0s 12ms/step\n",
      "1/1 [==============================] - 0s 13ms/step\n",
      "1/1 [==============================] - 0s 12ms/step\n",
      "1/1 [==============================] - 0s 14ms/step\n",
      "1/1 [==============================] - 0s 13ms/step\n",
      "1/1 [==============================] - 0s 18ms/step\n",
      "1/1 [==============================] - 0s 13ms/step\n",
      "1/1 [==============================] - 0s 13ms/step\n",
      "1/1 [==============================] - 0s 12ms/step\n",
      "1/1 [==============================] - 0s 13ms/step\n",
      "1/1 [==============================] - 0s 13ms/step\n",
      "1/1 [==============================] - 0s 12ms/step\n",
      "1/1 [==============================] - 0s 12ms/step\n",
      "1/1 [==============================] - 0s 13ms/step\n",
      "1/1 [==============================] - 0s 12ms/step\n",
      "1/1 [==============================] - 0s 13ms/step\n",
      "1/1 [==============================] - 0s 12ms/step\n",
      "1/1 [==============================] - 0s 13ms/step\n",
      "1/1 [==============================] - 0s 12ms/step\n",
      "1/1 [==============================] - 0s 13ms/step\n",
      "1/1 [==============================] - 0s 12ms/step\n",
      "1/1 [==============================] - 0s 12ms/step\n",
      "1/1 [==============================] - 0s 12ms/step\n",
      "1/1 [==============================] - 0s 12ms/step\n",
      "1/1 [==============================] - 0s 12ms/step\n",
      "1/1 [==============================] - 0s 15ms/step\n",
      "1/1 [==============================] - 0s 14ms/step\n",
      "1/1 [==============================] - 0s 13ms/step\n",
      "1/1 [==============================] - 0s 13ms/step\n",
      "1/1 [==============================] - 0s 13ms/step\n",
      "1/1 [==============================] - 0s 12ms/step\n",
      "1/1 [==============================] - 0s 12ms/step\n",
      "1/1 [==============================] - 0s 12ms/step\n",
      "1/1 [==============================] - 0s 12ms/step\n",
      "1/1 [==============================] - 0s 12ms/step\n",
      "1/1 [==============================] - 0s 13ms/step\n",
      "1/1 [==============================] - 0s 12ms/step\n",
      "1/1 [==============================] - 0s 13ms/step\n",
      "1/1 [==============================] - 0s 12ms/step\n",
      "1/1 [==============================] - 0s 12ms/step\n",
      "1/1 [==============================] - 0s 12ms/step\n",
      "1/1 [==============================] - 0s 12ms/step\n",
      "1/1 [==============================] - 0s 14ms/step\n",
      "1/1 [==============================] - 0s 12ms/step\n",
      "1/1 [==============================] - 0s 12ms/step\n",
      "1/1 [==============================] - 0s 12ms/step\n",
      "1/1 [==============================] - 0s 12ms/step\n",
      "1/1 [==============================] - 0s 14ms/step\n",
      "1/1 [==============================] - 0s 12ms/step\n",
      "1/1 [==============================] - 0s 12ms/step\n",
      "1/1 [==============================] - 0s 12ms/step\n",
      "1/1 [==============================] - 0s 13ms/step\n",
      "1/1 [==============================] - 0s 12ms/step\n",
      "1/1 [==============================] - 0s 12ms/step\n",
      "1/1 [==============================] - 0s 12ms/step\n",
      "1/1 [==============================] - 0s 12ms/step\n",
      "1/1 [==============================] - 0s 13ms/step\n",
      "1/1 [==============================] - 0s 13ms/step\n",
      "1/1 [==============================] - 0s 12ms/step\n",
      "1/1 [==============================] - 0s 13ms/step\n",
      "1/1 [==============================] - 0s 13ms/step\n",
      "1/1 [==============================] - 0s 12ms/step\n",
      "1/1 [==============================] - 0s 12ms/step\n",
      "1/1 [==============================] - 0s 13ms/step\n",
      "1/1 [==============================] - 0s 12ms/step\n",
      "1/1 [==============================] - 0s 14ms/step\n",
      "1/1 [==============================] - 0s 12ms/step\n",
      "1/1 [==============================] - 0s 13ms/step\n",
      "1/1 [==============================] - 0s 12ms/step\n",
      "1/1 [==============================] - 0s 12ms/step\n",
      "1/1 [==============================] - 0s 12ms/step\n",
      "1/1 [==============================] - 0s 13ms/step\n",
      "1/1 [==============================] - 0s 12ms/step\n",
      "1/1 [==============================] - 0s 13ms/step\n",
      "1/1 [==============================] - 0s 12ms/step\n",
      "1/1 [==============================] - 0s 13ms/step\n",
      "1/1 [==============================] - 0s 12ms/step\n",
      "1/1 [==============================] - 0s 13ms/step\n"
     ]
    }
   ],
   "source": [
    "from copy import deepcopy\n",
    "\n",
    "recursive_predictions = []\n",
    "recursive_dates = np.concatenate([dates_val, dates_test])\n",
    "\n",
    "for target_date in recursive_dates:\n",
    "  last_window = deepcopy(X_train[-1])\n",
    "  next_prediction = model.predict(np.array([last_window])).flatten()\n",
    "  recursive_predictions.append(next_prediction)\n",
    "  last_window[-1] = next_prediction"
   ]
  },
  {
   "cell_type": "code",
   "execution_count": 28,
   "id": "c999bada-d12d-4da3-a57c-cdefa45269ba",
   "metadata": {},
   "outputs": [
    {
     "data": {
      "text/plain": [
       "<matplotlib.legend.Legend at 0x7fc50058e070>"
      ]
     },
     "execution_count": 28,
     "metadata": {},
     "output_type": "execute_result"
    },
    {
     "data": {
      "image/png": "[encoded data removed]",
      "text/plain": [
       "<Figure size 432x288 with 1 Axes>"
      ]
     },
     "metadata": {
      "needs_background": "light"
     },
     "output_type": "display_data"
    }
   ],
   "source": [
    "# Plot for Everything\n",
    "\n",
    "plt.title(\"APM with Recursive\")\n",
    "plt.plot(dates_train, train_predictions, color = 'blue')\n",
    "plt.plot(dates_train, y_train, color = 'orange')\n",
    "plt.plot(dates_val, val_predictions, color = 'green')\n",
    "plt.plot(dates_val, y_val, color = 'red')\n",
    "plt.plot(dates_test, test_predictions, color = 'magenta')\n",
    "plt.plot(dates_test, y_test, color = 'brown')\n",
    "plt.plot(recursive_dates, recursive_predictions, color = 'yellow')\n",
    "plt.legend(['Training Predictions', \n",
    "            'Training Observations',\n",
    "            'Validation Predictions', \n",
    "            'Validation Observations',\n",
    "            'Testing Predictions', \n",
    "            'Testing Observations',\n",
    "            'Recursive Predictions'])"
   ]
  },
  {
   "cell_type": "code",
   "execution_count": null,
   "id": "03bb5175-79f3-4ecc-aa72-48d1f0e991d0",
   "metadata": {},
   "outputs": [],
   "source": []
  }
 ],
 "metadata": {
  "kernelspec": {
   "display_name": "Python 3 (ipykernel)",
   "language": "python",
   "name": "python3"
  },
  "language_info": {
   "codemirror_mode": {
    "name": "ipython",
    "version": 3
   },
   "file_extension": ".py",
   "mimetype": "text/x-python",
   "name": "python",
   "nbconvert_exporter": "python",
   "pygments_lexer": "ipython3",
   "version": "3.9.6"
  }
 },
 "nbformat": 4,
 "nbformat_minor": 5
}
