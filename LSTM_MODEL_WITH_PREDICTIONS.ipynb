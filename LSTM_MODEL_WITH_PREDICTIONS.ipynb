{
  "nbformat": 4,
  "nbformat_minor": 0,
  "metadata": {
    "colab": {
      "provenance": []
    },
    "kernelspec": {
      "name": "python3",
      "display_name": "Python 3"
    },
    "language_info": {
      "name": "python"
    }
  },
  "cells": [
    {
      "cell_type": "code",
      "execution_count": null,
      "metadata": {
        "id": "oBSbhcV-PNcu"
      },
      "outputs": [],
      "source": [
        "#tensor\n",
        "from tensorflow import keras\n",
        "from tensorflow.keras import layers\n",
        "\n",
        "#keras\n",
        "from keras.models import Sequential, Model\n",
        "from keras.layers import Dense\n",
        "from keras.utils import to_categorical\n",
        "\n",
        "\n",
        "import numpy as np\n",
        "import h5py\n",
        "from pathlib import Path\n",
        "import matplotlib.pyplot as plt\n",
        "\n",
        "from keras import backend as keras_backend\n",
        "\n",
        "#y finance stuff\n",
        "import yfinance as yf\n",
        "import pandas as pd\n",
        "from datetime import datetime, timedelta\n",
        "\n",
        "\n",
        "from sklearn.model_selection import train_test_split\n",
        "from sklearn.preprocessing import MinMaxScaler"
      ]
    },
    {
      "cell_type": "code",
      "source": [
        "# ACTUALLY THE BEST\n",
        "from stock_module4 import download_and_save_stock_data\n",
        "symbol = \"AAPL\"\n",
        "days = 10000\n",
        "output_csv_path = \"stock_data.csv\"\n",
        "\n",
        "download_and_save_stock_data(symbol, days, output_csv_path)"
      ],
      "metadata": {
        "id": "XSvgLY8yPQiG"
      },
      "execution_count": null,
      "outputs": []
    },
    {
      "cell_type": "code",
      "source": [
        "import pandas as pd\n",
        "import numpy as np\n",
        "import matplotlib.pyplot as plt\n",
        "from sklearn.preprocessing import MinMaxScaler\n",
        "from tensorflow.keras.models import Sequential\n",
        "from tensorflow.keras.layers import LSTM, Dense, Dropout\n",
        "from tensorflow.keras.callbacks import ModelCheckpoint, EarlyStopping\n",
        "from tensorflow.keras.optimizers import Adam\n",
        "from datetime import datetime, timedelta\n",
        "\n",
        "# Assuming you already have a DataFrame with stock data named stock_data\n",
        "stock_data = pd.read_csv('stock_data.csv')\n",
        "# Sort the DataFrame by date\n",
        "stock_data['Date'] = pd.to_datetime(stock_data['Date'])\n",
        "stock_data.sort_values(by='Date', inplace=True)\n",
        "stock_data.reset_index(drop=True, inplace=True)\n",
        "\n",
        "# Define the prediction timeframes\n",
        "one_day = 1\n",
        "one_month = 30\n",
        "one_year = 365\n",
        "\n",
        "# Create a function to prepare the data for LSTM\n",
        "def prepare_data(df, target_col, look_back):\n",
        "    data = df[target_col].values\n",
        "    data = data.reshape(-1, 1)\n",
        "    scaler = MinMaxScaler()\n",
        "    data = scaler.fit_transform(data)\n",
        "    X, y = [], []\n",
        "    for i in range(len(data) - look_back):\n",
        "        X.append(data[i:i+look_back])\n",
        "        y.append(data[i+look_back])\n",
        "    X, y = np.array(X), np.array(y)\n",
        "    return X, y, scaler\n",
        "\n",
        "# Split the data into train and test sets\n",
        "test_size = one_year\n",
        "look_back = one_year\n",
        "X, y, scaler = prepare_data(stock_data[['Close']], 'Close', look_back)\n",
        "X_train, y_train = X[:-test_size], y[:-test_size]\n",
        "X_test, y_test = X[-test_size:], y[-test_size:]\n",
        "\n",
        "# Build the LSTM model\n",
        "\n",
        "model = Sequential()\n",
        "model.add(LSTM(units=10, recurrent_dropout = 0.2, return_sequences=True, input_shape=(X_train.shape[1], 1)))\n",
        "model.add(Dense(units=1))\n",
        "model.compile(optimizer='adam', loss='mse', metrics=['mae'])\n",
        "\n",
        "# Define callbacks\n",
        "callbacks = [\n",
        "    ModelCheckpoint('best_model.h6', save_best_only=True),\n",
        "    EarlyStopping(patience=10, restore_best_weights=True)\n",
        "]\n",
        "\n",
        "# Train the model\n",
        "history = model.fit(X_train, y_train, epochs=50, validation_data=(X_test, y_test), callbacks=callbacks)"
      ],
      "metadata": {
        "id": "yvlXA6yoPTjf"
      },
      "execution_count": null,
      "outputs": []
    },
    {
      "cell_type": "markdown",
      "source": [
        "Do not know if below works"
      ],
      "metadata": {
        "id": "y5dLPSLSQhMN"
      }
    },
    {
      "cell_type": "code",
      "source": [
        "# Load the best model\n",
        "model = keras.models.load_model('best_model.h6')\n",
        "\n",
        "# Predict stock prices\n",
        "last_date = stock_data['Date'].max()\n",
        "next_day = last_date + timedelta(days=one_day)\n",
        "next_month = last_date + timedelta(days=one_month)\n",
        "next_year = last_date + timedelta(days=one_year)"
      ],
      "metadata": {
        "id": "RTexxveoQInK"
      },
      "execution_count": null,
      "outputs": []
    },
    {
      "cell_type": "code",
      "source": [
        "# ...\n",
        "# Prepare input data for predictions\n",
        "input_data = stock_data[['Close']].tail(look_back).values\n",
        "input_data = input_data.reshape(-1, 1)  # Reshape to 2D\n",
        "scaled_input = scaler.transform(input_data)\n",
        "\n",
        "# Predict one day, one month, and one year ahead\n",
        "predicted_price_next_day = model.predict(scaled_input)\n",
        "predicted_price_next_month = model.predict(scaled_input)\n",
        "predicted_price_next_year = model.predict(scaled_input)\n",
        "\n",
        "# Inverse transform the predicted prices to get actual prices\n",
        "predicted_price_next_day = scaler.inverse_transform(predicted_price_next_day)\n",
        "predicted_price_next_month = scaler.inverse_transform(predicted_price_next_month)\n",
        "predicted_price_next_year = scaler.inverse_transform(predicted_price_next_year)\n",
        "\n",
        "print(f\"Predicted Price for the next day ({next_day}): {predicted_price_next_day[0][0]}\")\n",
        "print(f\"Predicted Price for the next month ({next_month}): {predicted_price_next_month[0][0]}\")\n",
        "print(f\"Predicted Price for the next year ({next_year}): {predicted_price_next_year[0][0]}\")\n"
      ],
      "metadata": {
        "id": "5uEl53ybQeQE"
      },
      "execution_count": null,
      "outputs": []
    },
    {
      "cell_type": "code",
      "source": [
        "# Evaluate the model on test data\n",
        "test_loss = model.evaluate(X_test, y_test, verbose=0)\n",
        "print(f\"Test Loss: {test_loss}\")\n",
        "\n",
        "# Make predictions on the test data\n",
        "y_pred = model.predict(X_test)\n",
        "y_pred = scaler.inverse_transform(y_pred)\n",
        "y_test = scaler.inverse_transform(y_test)\n",
        "\n",
        "# Calculate evaluation metrics\n",
        "from sklearn.metrics import mean_absolute_error, mean_squared_error\n",
        "\n",
        "mae = mean_absolute_error(y_test, y_pred)\n",
        "mse = mean_squared_error(y_test, y_pred)\n",
        "rmse = np.sqrt(mse)\n",
        "\n",
        "print(f\"Mean Absolute Error (MAE): {mae}\")\n",
        "print(f\"Mean Squared Error (MSE): {mse}\")\n",
        "print(f\"Root Mean Squared Error (RMSE): {rmse}\")\n",
        "\n",
        "# Visualize the predictions\n",
        "plt.figure(figsize=(12, 6))\n",
        "plt.plot(stock_data['Date'].tail(len(y_test)), y_test, label='Actual Prices', color='blue')\n",
        "plt.plot(stock_data['Date'].tail(len(y_test)), y_pred, label='Predicted Prices', color='red')\n",
        "plt.title('Stock Price Prediction - Test Data')\n",
        "plt.xlabel('Date')\n",
        "plt.ylabel('Stock Price')\n",
        "plt.legend()\n",
        "plt.show()"
      ],
      "metadata": {
        "id": "NeiA8ZbRQf7b"
      },
      "execution_count": null,
      "outputs": []
    }
  ]
}